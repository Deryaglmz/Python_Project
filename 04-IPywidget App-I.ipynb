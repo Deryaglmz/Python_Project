{
 "cells": [
  {
   "cell_type": "markdown",
   "id": "fdec70cb",
   "metadata": {},
   "source": [
    "# IPywidget App"
   ]
  },
  {
   "cell_type": "markdown",
   "id": "616b9d01",
   "metadata": {},
   "source": [
    "# content"
   ]
  },
  {
   "cell_type": "code",
   "execution_count": 6,
   "id": "28bd77a4",
   "metadata": {},
   "outputs": [],
   "source": [
    "# Widgets:\n",
    "import ipywidgets as widgets\n",
    "\n",
    "# CSV/DataFrame:\n",
    "import pandas as pd\n",
    "import numpy as np\n",
    "from io import StringIO\n",
    "\n",
    "#Drawing:\n",
    "import matplotlib.pyplot as plt\n",
    "%matplotlib inline\n"
   ]
  },
  {
   "cell_type": "markdown",
   "id": "d7793372",
   "metadata": {},
   "source": [
    "# Widgets"
   ]
  },
  {
   "cell_type": "code",
   "execution_count": null,
   "id": "166f2088",
   "metadata": {},
   "outputs": [],
   "source": [
    "Tabs\n",
    "FileUpload\n",
    "Output\n",
    "SelectMultiple\n",
    "RadioButton\n",
    "IntSlider\n",
    "Accordion\n",
    "Button\n",
    "HBox/VBox\n",
    "ToogleButtons\n",
    "Drapdown\n",
    "ColorPicker"
   ]
  },
  {
   "cell_type": "code",
   "execution_count": 9,
   "id": "be4a704e",
   "metadata": {},
   "outputs": [
    {
     "data": {
      "application/vnd.jupyter.widget-view+json": {
       "model_id": "726d85ac5d1a489b96b9f37137de59cb",
       "version_major": 2,
       "version_minor": 0
      },
      "text/plain": [
       "Tab(_titles={'0': 'Upload', '1': 'Decscriber', '2': 'Plotter'})"
      ]
     },
     "metadata": {},
     "output_type": "display_data"
    }
   ],
   "source": [
    "tab = widgets.Tab()\n",
    "placeholder = widgets.Label()\n",
    "tab.set_title(0,\"Upload\")\n",
    "tab.set_title(1,\"Decscriber\")\n",
    "tab.set_title(2,\"Plotter\")\n",
    "tab"
   ]
  },
  {
   "cell_type": "markdown",
   "id": "a87c7611",
   "metadata": {},
   "source": [
    "# Fileupload Widget"
   ]
  },
  {
   "cell_type": "code",
   "execution_count": 10,
   "id": "98939aee",
   "metadata": {},
   "outputs": [
    {
     "data": {
      "application/vnd.jupyter.widget-view+json": {
       "model_id": "235f7d69ea4e467ab3d033e4c0fbfa81",
       "version_major": 2,
       "version_minor": 0
      },
      "text/plain": [
       "FileUpload(value={}, description='Upload')"
      ]
     },
     "metadata": {},
     "output_type": "display_data"
    }
   ],
   "source": [
    "up = widgets.FileUpload(accept=\"\", multiple=False)\n",
    "up"
   ]
  },
  {
   "cell_type": "markdown",
   "id": "cff3badb",
   "metadata": {},
   "source": [
    "# Output Widget "
   ]
  },
  {
   "cell_type": "code",
   "execution_count": 13,
   "id": "eb15b73e",
   "metadata": {},
   "outputs": [
    {
     "data": {
      "application/vnd.jupyter.widget-view+json": {
       "model_id": "726d85ac5d1a489b96b9f37137de59cb",
       "version_major": 2,
       "version_minor": 0
      },
      "text/plain": [
       "Tab(children=(FileUpload(value={}, description='Upload'), Output(layout=Layout(border='1px solid black')), Out…"
      ]
     },
     "metadata": {},
     "output_type": "display_data"
    }
   ],
   "source": [
    "out = widgets.Output(layout={'border': '1px solid black'})\n",
    "tab.children = [up,out,out]\n",
    "tab"
   ]
  },
  {
   "cell_type": "markdown",
   "id": "b0782aa9",
   "metadata": {},
   "source": [
    "# SelectMultiple Widget"
   ]
  },
  {
   "cell_type": "code",
   "execution_count": 14,
   "id": "48d8b4c4",
   "metadata": {},
   "outputs": [
    {
     "data": {
      "application/vnd.jupyter.widget-view+json": {
       "model_id": "157b943c028745b9a14c0775a5b0be2b",
       "version_major": 2,
       "version_minor": 0
      },
      "text/plain": [
       "SelectMultiple(description='Eraser: ', index=(0,), options=('tab', '\"\"'), value=('tab',))"
      ]
     },
     "metadata": {},
     "output_type": "display_data"
    }
   ],
   "source": [
    "eraser = widgets.SelectMultiple(\n",
    "    options= ['tab','\"\"'],\n",
    "    value = ['tab'],\n",
    "    #rows=10,\n",
    "    description = 'Eraser: ',\n",
    "    disable=False\n",
    ")\n",
    "eraser"
   ]
  },
  {
   "cell_type": "markdown",
   "id": "e3ebe436",
   "metadata": {},
   "source": [
    "# RadioButtons Widget "
   ]
  },
  {
   "cell_type": "code",
   "execution_count": 15,
   "id": "03fe16df",
   "metadata": {},
   "outputs": [
    {
     "data": {
      "application/vnd.jupyter.widget-view+json": {
       "model_id": "e2b2a9d888b44fd994e8d47a1cd12443",
       "version_major": 2,
       "version_minor": 0
      },
      "text/plain": [
       "RadioButtons(description='Seperator: ', options=(';', ',', ''), value=';')"
      ]
     },
     "metadata": {},
     "output_type": "display_data"
    }
   ],
   "source": [
    "delim = widgets.RadioButtons(\n",
    "   options= [';',',',''],\n",
    "    description = 'Seperator: ',\n",
    "    disable=False\n",
    ")\n",
    "delim"
   ]
  },
  {
   "cell_type": "markdown",
   "id": "8f643597",
   "metadata": {},
   "source": [
    "# IntSlider"
   ]
  },
  {
   "cell_type": "code",
   "execution_count": 16,
   "id": "5939d8ea",
   "metadata": {},
   "outputs": [
    {
     "data": {
      "application/vnd.jupyter.widget-view+json": {
       "model_id": "9864529470004fd48037d16ab2b0023c",
       "version_major": 2,
       "version_minor": 0
      },
      "text/plain": [
       "IntSlider(value=0, continuous_update=False, description='# of lines: ')"
      ]
     },
     "metadata": {},
     "output_type": "display_data"
    }
   ],
   "source": [
    "rows = widgets.IntSlider(\n",
    "    value=0,\n",
    "    step = 1,\n",
    "    description = '# of lines: ',\n",
    "    disable =False,\n",
    "    continuous_update = False,\n",
    "    oreientation = 'horizontal',\n",
    "    readout = True,\n",
    "    readout_format='d'\n",
    ")\n",
    "rows"
   ]
  },
  {
   "cell_type": "markdown",
   "id": "624e1ae9",
   "metadata": {},
   "source": [
    "# Accordion Widget"
   ]
  },
  {
   "cell_type": "code",
   "execution_count": 17,
   "id": "68395879",
   "metadata": {},
   "outputs": [
    {
     "data": {
      "application/vnd.jupyter.widget-view+json": {
       "model_id": "b405e8b3d0a8480593929f6239dfbcff",
       "version_major": 2,
       "version_minor": 0
      },
      "text/plain": [
       "Accordion(children=(FileUpload(value={}, description='Upload'), RadioButtons(description='Seperator: ', index=…"
      ]
     },
     "metadata": {},
     "output_type": "display_data"
    }
   ],
   "source": [
    "accordion = widgets.Accordion()\n",
    "accordion.children=[\n",
    "    up,\n",
    "    delim,\n",
    "    rows]\n",
    "accordion.set_title(0, 'File Selection')\n",
    "accordion.set_title(1, 'Delimiter')\n",
    "accordion.set_title(2, 'Skip Rows')\n",
    "accordion\n"
   ]
  },
  {
   "cell_type": "markdown",
   "id": "22151747",
   "metadata": {},
   "source": [
    "# Button Widget"
   ]
  },
  {
   "cell_type": "code",
   "execution_count": 18,
   "id": "2eba291b",
   "metadata": {},
   "outputs": [
    {
     "data": {
      "application/vnd.jupyter.widget-view+json": {
       "model_id": "d877b52b5ea1414485593e80421022ca",
       "version_major": 2,
       "version_minor": 0
      },
      "text/plain": [
       "Button(button_style='warning', description='Upload ', icon='check', style=ButtonStyle(), tooltip='Click to Upl…"
      ]
     },
     "metadata": {},
     "output_type": "display_data"
    }
   ],
   "source": [
    "button_upload = widgets.Button(\n",
    "    description = 'Upload ',\n",
    "    disable =False,\n",
    "    button_style='warning',\n",
    "    tooltip='Click to Upload',\n",
    "    icon='check'\n",
    ")\n",
    "button_upload\n"
   ]
  },
  {
   "cell_type": "code",
   "execution_count": 19,
   "id": "0ab0521f",
   "metadata": {},
   "outputs": [
    {
     "data": {
      "application/vnd.jupyter.widget-view+json": {
       "model_id": "ab5651957b2d40a99052de5b306034ad",
       "version_major": 2,
       "version_minor": 0
      },
      "text/plain": [
       "Button(button_style='info', description='Preview ', icon='search', style=ButtonStyle(), tooltip='Click to Prev…"
      ]
     },
     "metadata": {},
     "output_type": "display_data"
    }
   ],
   "source": [
    "button_preview = widgets.Button(\n",
    "    description = 'Preview ',\n",
    "    disable =False,\n",
    "    button_style='info',\n",
    "    tooltip='Click to Preview',\n",
    "    icon='search'\n",
    ")\n",
    "button_preview"
   ]
  },
  {
   "cell_type": "code",
   "execution_count": 20,
   "id": "435d1f4f",
   "metadata": {},
   "outputs": [
    {
     "data": {
      "application/vnd.jupyter.widget-view+json": {
       "model_id": "4e77b356e95a4f2b94dc69451bc92e36",
       "version_major": 2,
       "version_minor": 0
      },
      "text/plain": [
       "Button(button_style='danger', description='Plot ', icon='pencil', style=ButtonStyle(), tooltip='Click to Plot'…"
      ]
     },
     "metadata": {},
     "output_type": "display_data"
    }
   ],
   "source": [
    "button_plot = widgets.Button(\n",
    "    description = 'Plot ',\n",
    "    disable =False,\n",
    "    button_style='danger',\n",
    "    tooltip='Click to Plot',\n",
    "    icon='pencil'\n",
    ")\n",
    "button_plot"
   ]
  },
  {
   "cell_type": "markdown",
   "id": "3709a6bb",
   "metadata": {},
   "source": [
    "# Groupping - HBox/VBox"
   ]
  },
  {
   "cell_type": "code",
   "execution_count": 23,
   "id": "a67d4f57",
   "metadata": {},
   "outputs": [
    {
     "data": {
      "application/vnd.jupyter.widget-view+json": {
       "model_id": "dc2541fa3fee4aa9b4fc9d3723585f51",
       "version_major": 2,
       "version_minor": 0
      },
      "text/plain": [
       "VBox(children=(RadioButtons(description='Seperator: ', index=1, options=(';', ',', ''), value=','), SelectMult…"
      ]
     },
     "metadata": {},
     "output_type": "display_data"
    }
   ],
   "source": [
    "vb = widgets.VBox([delim, eraser])\n",
    "vb"
   ]
  },
  {
   "cell_type": "code",
   "execution_count": 24,
   "id": "299be435",
   "metadata": {},
   "outputs": [
    {
     "data": {
      "application/vnd.jupyter.widget-view+json": {
       "model_id": "dc2541fa3fee4aa9b4fc9d3723585f51",
       "version_major": 2,
       "version_minor": 0
      },
      "text/plain": [
       "VBox(children=(RadioButtons(description='Seperator: ', index=1, options=(';', ',', ''), value=','), SelectMult…"
      ]
     },
     "metadata": {},
     "output_type": "display_data"
    }
   ],
   "source": [
    "hb = widgets.HBox([delim, eraser])\n",
    "vb"
   ]
  },
  {
   "cell_type": "code",
   "execution_count": 26,
   "id": "1ffea747",
   "metadata": {},
   "outputs": [
    {
     "data": {
      "application/vnd.jupyter.widget-view+json": {
       "model_id": "85d7406c7db34775947fcdf4390246b7",
       "version_major": 2,
       "version_minor": 0
      },
      "text/plain": [
       "VBox(children=(Accordion(children=(FileUpload(value={}, description='Upload'), VBox(children=(RadioButtons(des…"
      ]
     },
     "metadata": {},
     "output_type": "display_data"
    }
   ],
   "source": [
    "accordion.children=[\n",
    "    up,\n",
    "    widgets.VBox([delim, eraser]),\n",
    "    rows]\n",
    "\n",
    "accordion_box= widgets.VBox([\n",
    "    accordion,\n",
    "    widgets.HBox([button_preview, button_upload]),\n",
    "    out\n",
    "])\n",
    "\n",
    "accordion_box"
   ]
  },
  {
   "cell_type": "markdown",
   "id": "99e610cb",
   "metadata": {},
   "source": [
    "# ToogleButtons Widget"
   ]
  },
  {
   "cell_type": "code",
   "execution_count": 28,
   "id": "ad3c2641",
   "metadata": {},
   "outputs": [
    {
     "data": {
      "application/vnd.jupyter.widget-view+json": {
       "model_id": "f57d8192d6ad4bf48f41a21c35571e5e",
       "version_major": 2,
       "version_minor": 0
      },
      "text/plain": [
       "ToggleButtons(button_style='warning', description='Options ', icons=('search', 'info', 'tachometer'), options=…"
      ]
     },
     "metadata": {},
     "output_type": "display_data"
    }
   ],
   "source": [
    "toggle = widgets.ToggleButtons(\n",
    "    options=['Preview', 'Info', 'Statıs'],\n",
    "    description = 'Options ',\n",
    "    disable =False,\n",
    "    button_style='warning',\n",
    "    icons=['search', 'info', 'tachometer']\n",
    ")\n",
    "#toogle.observe(desc_clicked, 'value')\n",
    "toggle"
   ]
  },
  {
   "cell_type": "markdown",
   "id": "3ad53ef9",
   "metadata": {},
   "source": [
    "# Dropdown Widget"
   ]
  },
  {
   "cell_type": "code",
   "execution_count": 30,
   "id": "0c4dab9d",
   "metadata": {},
   "outputs": [
    {
     "data": {
      "application/vnd.jupyter.widget-view+json": {
       "model_id": "f9ca9ad2a95d4a738fe01ecd29c0fd84",
       "version_major": 2,
       "version_minor": 0
      },
      "text/plain": [
       "Dropdown(description='Chart Type', options=('Bar Chart', 'Line Chart'), value='Bar Chart')"
      ]
     },
     "metadata": {},
     "output_type": "display_data"
    }
   ],
   "source": [
    "x_axis = widgets.Dropdown(\n",
    "   options=[''],\n",
    "   value='',\n",
    "   description = 'X-Axis:',\n",
    "   disable =False,\n",
    ")\n",
    "\n",
    "y_axis = widgets.Dropdown(\n",
    "   options=[''],\n",
    "   value='',\n",
    "   description = 'Y-Axis:',\n",
    "   disable =False,\n",
    ")\n",
    "\n",
    "graph_type = widgets.Dropdown(\n",
    "   options=['Bar Chart', 'Line Chart'],\n",
    "   value='Bar Chart',\n",
    "   description = 'Chart Type',\n",
    "   disable =False,\n",
    ")\n",
    "graph_type\n"
   ]
  },
  {
   "cell_type": "markdown",
   "id": "b2473f30",
   "metadata": {},
   "source": [
    "# ColorPicker Widget"
   ]
  },
  {
   "cell_type": "code",
   "execution_count": 33,
   "id": "4f6524cf",
   "metadata": {},
   "outputs": [
    {
     "data": {
      "application/vnd.jupyter.widget-view+json": {
       "model_id": "7ebd60c37c354d2d9fa9caff16dd0f9b",
       "version_major": 2,
       "version_minor": 0
      },
      "text/plain": [
       "ColorPicker(value='lightblue', description='Color Picker:')"
      ]
     },
     "metadata": {},
     "output_type": "display_data"
    }
   ],
   "source": [
    "color_picker = widgets.ColorPicker(\n",
    "     concise = False,\n",
    "     description = 'Color Picker:',\n",
    "     value='lightblue',\n",
    "     disable =False\n",
    ")\n",
    "color_picker\n"
   ]
  },
  {
   "cell_type": "code",
   "execution_count": null,
   "id": "71444aa9",
   "metadata": {},
   "outputs": [],
   "source": []
  }
 ],
 "metadata": {
  "kernelspec": {
   "display_name": "Python 3 (ipykernel)",
   "language": "python",
   "name": "python3"
  },
  "language_info": {
   "codemirror_mode": {
    "name": "ipython",
    "version": 3
   },
   "file_extension": ".py",
   "mimetype": "text/x-python",
   "name": "python",
   "nbconvert_exporter": "python",
   "pygments_lexer": "ipython3",
   "version": "3.10.9"
  }
 },
 "nbformat": 4,
 "nbformat_minor": 5
}
